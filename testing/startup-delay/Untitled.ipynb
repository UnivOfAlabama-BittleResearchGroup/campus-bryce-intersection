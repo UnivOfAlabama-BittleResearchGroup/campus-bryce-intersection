{
 "cells": [
  {
   "cell_type": "code",
   "execution_count": 1,
   "metadata": {},
   "outputs": [],
   "source": [
    "import pandas as pd\n",
    "import sys\n",
    "import os\n",
    "import numpy as np\n",
    "import plotly.graph_objects as go\n",
    "\n",
    "sys.path.append(\"../\")"
   ]
  },
  {
   "cell_type": "code",
   "execution_count": 2,
   "metadata": {},
   "outputs": [],
   "source": [
    "# file_location = os.environ.get('SQL_DATA_DIR')\n",
    "file_location = r'Z:\\6 ACTION Project\\SUMO\\research_data_extended'\n",
    "day = '2020-02-13.csv'"
   ]
  },
  {
   "cell_type": "code",
   "execution_count": 3,
   "metadata": {},
   "outputs": [],
   "source": [
    "df = pd.read_csv(os.path.join(file_location, day))"
   ]
  },
  {
   "cell_type": "code",
   "execution_count": 4,
   "metadata": {},
   "outputs": [],
   "source": [
    "df['Timestamp'] = pd.to_datetime(df['Timestamp'])\n",
    "df.set_index('Timestamp', drop=False, inplace=True)\n",
    "df.drop('Unnamed: 0', inplace=True, axis=1)"
   ]
  },
  {
   "cell_type": "code",
   "execution_count": 5,
   "metadata": {},
   "outputs": [],
   "source": [
    "filtered_df = df[(df['Timestamp'] > pd.to_datetime('2020-02-13 17:00:00')) & (df['Timestamp'] < pd.to_datetime('2020-02-13 17:10:00'))]"
   ]
  },
  {
   "cell_type": "code",
   "execution_count": 6,
   "metadata": {},
   "outputs": [],
   "source": [
    "light_on = filtered_df[(filtered_df['EventCode'] == 1) | (filtered_df['EventCode'] == 10)]"
   ]
  },
  {
   "cell_type": "code",
   "execution_count": 7,
   "metadata": {},
   "outputs": [],
   "source": [
    "detection_events = filtered_df[(filtered_df['EventCode'] == 81)].copy()"
   ]
  },
  {
   "cell_type": "code",
   "execution_count": 12,
   "metadata": {},
   "outputs": [
    {
     "name": "stdout",
     "output_type": "stream",
     "text": [
      "63069007\n",
      "63069009\n",
      "63069006\n",
      "63069008\n"
     ]
    }
   ],
   "source": [
    "detection_dict = {}\n",
    "for tl in detection_events['SignalID'].unique():\n",
    "    print(tl)\n",
    "    detection_dict[tl] = {}\n",
    "    local_df = detection_events[detection_events['SignalID'] == tl].copy()\n",
    "    for detector in local_df['EventParam'].unique():\n",
    "        loop_df = local_df[local_df['EventParam'] == detector].copy()\n",
    "        loop_df['headway'] = loop_df['Timestamp'].diff()\n",
    "        loop_df['headway_seconds'] = loop_df['headway'].dt.seconds + loop_df['headway'].dt.microseconds / 1e6\n",
    "        detection_dict[tl][detector] = loop_df.copy()\n",
    "        del loop_df\n",
    "    del local_df"
   ]
  },
  {
   "cell_type": "code",
   "execution_count": 14,
   "metadata": {},
   "outputs": [
    {
     "name": "stdout",
     "output_type": "stream",
     "text": [
      "2020-02-13T17:01:28.700000000 10\n",
      "2020-02-13T17:02:37.600000000 1\n",
      "2020-02-13T17:04:28.800000000 10\n",
      "2020-02-13T17:05:31.000000000 1\n",
      "2020-02-13T17:07:28.800000000 10\n",
      "2020-02-13T17:08:42.700000000 1\n"
     ]
    },
    {
     "data": {
      "application/vnd.plotly.v1+json": {
       "config": {
        "plotlyServerURL": "https://plot.ly"
       },
       "data": [
        {
         "marker": {
          "color": "black",
          "size": 10,
          "symbol": "x"
         },
         "mode": "markers",
         "name": "Detector 9",
         "type": "scatter",
         "x": [
          "2020-02-13T17:00:14.100000",
          "2020-02-13T17:00:40.800000",
          "2020-02-13T17:01:01.100000",
          "2020-02-13T17:01:09.500000",
          "2020-02-13T17:01:10.900000",
          "2020-02-13T17:01:21.800000",
          "2020-02-13T17:01:58.200000",
          "2020-02-13T17:02:47.700000",
          "2020-02-13T17:02:50.600000",
          "2020-02-13T17:02:53.700000",
          "2020-02-13T17:02:55.400000",
          "2020-02-13T17:02:57.200000",
          "2020-02-13T17:02:59.200000",
          "2020-02-13T17:03:00.200000",
          "2020-02-13T17:03:02.700000",
          "2020-02-13T17:03:04.300000",
          "2020-02-13T17:03:22.500000",
          "2020-02-13T17:03:30.200000",
          "2020-02-13T17:03:36.700000",
          "2020-02-13T17:04:00.400000",
          "2020-02-13T17:04:08.500000",
          "2020-02-13T17:04:15.700000",
          "2020-02-13T17:04:20.200000",
          "2020-02-13T17:04:34.200000",
          "2020-02-13T17:05:11.900000",
          "2020-02-13T17:05:51.800000",
          "2020-02-13T17:05:56.100000",
          "2020-02-13T17:05:57.400000",
          "2020-02-13T17:06:00.500000",
          "2020-02-13T17:06:02",
          "2020-02-13T17:06:03",
          "2020-02-13T17:06:04.700000",
          "2020-02-13T17:06:06.400000",
          "2020-02-13T17:06:07.900000",
          "2020-02-13T17:06:10.700000",
          "2020-02-13T17:06:12",
          "2020-02-13T17:06:13.400000",
          "2020-02-13T17:06:15.400000",
          "2020-02-13T17:06:17.800000",
          "2020-02-13T17:06:28",
          "2020-02-13T17:07:17.700000",
          "2020-02-13T17:07:31.900000",
          "2020-02-13T17:08:23.400000",
          "2020-02-13T17:08:26.200000",
          "2020-02-13T17:08:28.900000",
          "2020-02-13T17:08:30.400000",
          "2020-02-13T17:08:33.200000",
          "2020-02-13T17:08:36.700000",
          "2020-02-13T17:08:38.900000",
          "2020-02-13T17:08:42.400000",
          "2020-02-13T17:08:48.800000",
          "2020-02-13T17:08:54.900000",
          "2020-02-13T17:08:58.200000",
          "2020-02-13T17:09:03.900000",
          "2020-02-13T17:09:06.200000",
          "2020-02-13T17:09:09.400000",
          "2020-02-13T17:09:15.800000",
          "2020-02-13T17:09:18.900000",
          "2020-02-13T17:09:28.500000",
          "2020-02-13T17:09:31.400000"
         ],
         "y": [
          null,
          26.7,
          20.3,
          8.4,
          1.4,
          10.9,
          36.4,
          49.5,
          2.9,
          3.1,
          1.7,
          1.8,
          2,
          1,
          2.5,
          1.6,
          18.2,
          7.7,
          6.5,
          23.7,
          8.1,
          7.2,
          4.5,
          14,
          37.7,
          39.9,
          4.3,
          1.3,
          3.1,
          1.5,
          1,
          1.7,
          1.7,
          1.5,
          2.8,
          1.3,
          1.4,
          2,
          2.4,
          10.2,
          49.7,
          14.2,
          51.5,
          2.8,
          2.7,
          1.5,
          2.8,
          3.5,
          2.2,
          3.5,
          6.4,
          6.1,
          3.3,
          5.7,
          2.3,
          3.2,
          6.4,
          3.1,
          9.6,
          2.9
         ]
        },
        {
         "marker": {
          "color": "blue",
          "size": 10,
          "symbol": "circle"
         },
         "mode": "markers",
         "name": "Detector 10",
         "type": "scatter",
         "x": [
          "2020-02-13T17:00:15.300000",
          "2020-02-13T17:00:18.400000",
          "2020-02-13T17:00:31.500000",
          "2020-02-13T17:00:34.100000",
          "2020-02-13T17:00:36.300000",
          "2020-02-13T17:00:40.400000",
          "2020-02-13T17:00:41.600000",
          "2020-02-13T17:00:45.300000",
          "2020-02-13T17:01:06.100000",
          "2020-02-13T17:01:09.900000",
          "2020-02-13T17:01:11.300000",
          "2020-02-13T17:01:21.600000",
          "2020-02-13T17:01:24.500000",
          "2020-02-13T17:01:56",
          "2020-02-13T17:02:07.300000",
          "2020-02-13T17:02:29.100000",
          "2020-02-13T17:02:50.200000",
          "2020-02-13T17:02:51.700000",
          "2020-02-13T17:02:55.300000",
          "2020-02-13T17:02:56.400000",
          "2020-02-13T17:02:58.900000",
          "2020-02-13T17:03:01.200000",
          "2020-02-13T17:03:02.700000",
          "2020-02-13T17:03:04.500000",
          "2020-02-13T17:03:10.700000",
          "2020-02-13T17:03:12.700000",
          "2020-02-13T17:03:22.400000",
          "2020-02-13T17:03:29.300000",
          "2020-02-13T17:03:33.200000",
          "2020-02-13T17:03:35.800000",
          "2020-02-13T17:03:50",
          "2020-02-13T17:03:52.800000",
          "2020-02-13T17:04:07.900000",
          "2020-02-13T17:04:20.300000",
          "2020-02-13T17:04:53.700000",
          "2020-02-13T17:05:00.800000",
          "2020-02-13T17:05:03.300000",
          "2020-02-13T17:05:06.700000",
          "2020-02-13T17:05:14.400000",
          "2020-02-13T17:05:51.900000",
          "2020-02-13T17:05:54.300000",
          "2020-02-13T17:05:59",
          "2020-02-13T17:06:00.600000",
          "2020-02-13T17:06:04.400000",
          "2020-02-13T17:06:09.800000",
          "2020-02-13T17:06:12",
          "2020-02-13T17:06:13.700000",
          "2020-02-13T17:06:21.300000",
          "2020-02-13T17:06:31",
          "2020-02-13T17:06:53.600000",
          "2020-02-13T17:07:10.800000",
          "2020-02-13T17:07:21.300000",
          "2020-02-13T17:07:29.600000",
          "2020-02-13T17:08:02",
          "2020-02-13T17:08:22.500000",
          "2020-02-13T17:08:24",
          "2020-02-13T17:08:27.900000",
          "2020-02-13T17:08:30.100000",
          "2020-02-13T17:08:31.200000",
          "2020-02-13T17:08:32.800000",
          "2020-02-13T17:08:35.400000",
          "2020-02-13T17:08:38.800000",
          "2020-02-13T17:08:41.200000",
          "2020-02-13T17:08:43.400000",
          "2020-02-13T17:08:48.900000",
          "2020-02-13T17:08:52.200000",
          "2020-02-13T17:08:53.900000",
          "2020-02-13T17:08:57.900000",
          "2020-02-13T17:09:04.200000",
          "2020-02-13T17:09:08.900000",
          "2020-02-13T17:09:12.700000",
          "2020-02-13T17:09:14.700000",
          "2020-02-13T17:09:19.400000",
          "2020-02-13T17:09:20.900000",
          "2020-02-13T17:09:23.500000",
          "2020-02-13T17:09:25.500000",
          "2020-02-13T17:09:30.500000",
          "2020-02-13T17:09:39.900000",
          "2020-02-13T17:09:44.700000",
          "2020-02-13T17:09:46.200000"
         ],
         "y": [
          null,
          3.1,
          13.1,
          2.6,
          2.2,
          4.1,
          1.2,
          3.7,
          20.8,
          3.8,
          1.4,
          10.3,
          2.9,
          31.5,
          11.3,
          21.8,
          21.1,
          1.5,
          3.6,
          1.1,
          2.5,
          2.3,
          1.5,
          1.8,
          6.2,
          2,
          9.7,
          6.9,
          3.9,
          2.6,
          14.2,
          2.8,
          15.1,
          12.4,
          33.4,
          7.1,
          2.5,
          3.4,
          7.7,
          37.5,
          2.4,
          4.7,
          1.6,
          3.8,
          5.4,
          2.2,
          1.7,
          7.6,
          9.7,
          22.6,
          17.2,
          10.5,
          8.3,
          32.4,
          20.5,
          1.5,
          3.9,
          2.2,
          1.1,
          1.6,
          2.6,
          3.4,
          2.4,
          2.2,
          5.5,
          3.3,
          1.7,
          4,
          6.3,
          4.7,
          3.8,
          2,
          4.7,
          1.5,
          2.6,
          2,
          5,
          9.4,
          4.8,
          1.5
         ]
        },
        {
         "line": {
          "color": "Red",
          "dash": "solid",
          "width": 4
         },
         "mode": "lines",
         "showlegend": false,
         "type": "scatter",
         "x": [
          "2020-02-13T17:01:28.700000",
          "2020-02-13T17:01:28.700000"
         ],
         "y": [
          0,
          15
         ]
        },
        {
         "line": {
          "color": "Green",
          "dash": "solid",
          "width": 4
         },
         "mode": "lines",
         "showlegend": false,
         "type": "scatter",
         "x": [
          "2020-02-13T17:02:37.600000",
          "2020-02-13T17:02:37.600000"
         ],
         "y": [
          0,
          15
         ]
        },
        {
         "line": {
          "color": "Red",
          "dash": "solid",
          "width": 4
         },
         "mode": "lines",
         "showlegend": false,
         "type": "scatter",
         "x": [
          "2020-02-13T17:04:28.800000",
          "2020-02-13T17:04:28.800000"
         ],
         "y": [
          0,
          15
         ]
        },
        {
         "line": {
          "color": "Green",
          "dash": "solid",
          "width": 4
         },
         "mode": "lines",
         "showlegend": false,
         "type": "scatter",
         "x": [
          "2020-02-13T17:05:31",
          "2020-02-13T17:05:31"
         ],
         "y": [
          0,
          15
         ]
        },
        {
         "line": {
          "color": "Red",
          "dash": "solid",
          "width": 4
         },
         "mode": "lines",
         "showlegend": false,
         "type": "scatter",
         "x": [
          "2020-02-13T17:07:28.800000",
          "2020-02-13T17:07:28.800000"
         ],
         "y": [
          0,
          15
         ]
        },
        {
         "line": {
          "color": "Green",
          "dash": "solid",
          "width": 4
         },
         "mode": "lines",
         "showlegend": false,
         "type": "scatter",
         "x": [
          "2020-02-13T17:08:42.700000",
          "2020-02-13T17:08:42.700000"
         ],
         "y": [
          0,
          15
         ]
        }
       ],
       "layout": {
        "autosize": true,
        "template": {
         "data": {
          "bar": [
           {
            "error_x": {
             "color": "#2a3f5f"
            },
            "error_y": {
             "color": "#2a3f5f"
            },
            "marker": {
             "line": {
              "color": "#E5ECF6",
              "width": 0.5
             }
            },
            "type": "bar"
           }
          ],
          "barpolar": [
           {
            "marker": {
             "line": {
              "color": "#E5ECF6",
              "width": 0.5
             }
            },
            "type": "barpolar"
           }
          ],
          "carpet": [
           {
            "aaxis": {
             "endlinecolor": "#2a3f5f",
             "gridcolor": "white",
             "linecolor": "white",
             "minorgridcolor": "white",
             "startlinecolor": "#2a3f5f"
            },
            "baxis": {
             "endlinecolor": "#2a3f5f",
             "gridcolor": "white",
             "linecolor": "white",
             "minorgridcolor": "white",
             "startlinecolor": "#2a3f5f"
            },
            "type": "carpet"
           }
          ],
          "choropleth": [
           {
            "colorbar": {
             "outlinewidth": 0,
             "ticks": ""
            },
            "type": "choropleth"
           }
          ],
          "contour": [
           {
            "colorbar": {
             "outlinewidth": 0,
             "ticks": ""
            },
            "colorscale": [
             [
              0,
              "#0d0887"
             ],
             [
              0.1111111111111111,
              "#46039f"
             ],
             [
              0.2222222222222222,
              "#7201a8"
             ],
             [
              0.3333333333333333,
              "#9c179e"
             ],
             [
              0.4444444444444444,
              "#bd3786"
             ],
             [
              0.5555555555555556,
              "#d8576b"
             ],
             [
              0.6666666666666666,
              "#ed7953"
             ],
             [
              0.7777777777777778,
              "#fb9f3a"
             ],
             [
              0.8888888888888888,
              "#fdca26"
             ],
             [
              1,
              "#f0f921"
             ]
            ],
            "type": "contour"
           }
          ],
          "contourcarpet": [
           {
            "colorbar": {
             "outlinewidth": 0,
             "ticks": ""
            },
            "type": "contourcarpet"
           }
          ],
          "heatmap": [
           {
            "colorbar": {
             "outlinewidth": 0,
             "ticks": ""
            },
            "colorscale": [
             [
              0,
              "#0d0887"
             ],
             [
              0.1111111111111111,
              "#46039f"
             ],
             [
              0.2222222222222222,
              "#7201a8"
             ],
             [
              0.3333333333333333,
              "#9c179e"
             ],
             [
              0.4444444444444444,
              "#bd3786"
             ],
             [
              0.5555555555555556,
              "#d8576b"
             ],
             [
              0.6666666666666666,
              "#ed7953"
             ],
             [
              0.7777777777777778,
              "#fb9f3a"
             ],
             [
              0.8888888888888888,
              "#fdca26"
             ],
             [
              1,
              "#f0f921"
             ]
            ],
            "type": "heatmap"
           }
          ],
          "heatmapgl": [
           {
            "colorbar": {
             "outlinewidth": 0,
             "ticks": ""
            },
            "colorscale": [
             [
              0,
              "#0d0887"
             ],
             [
              0.1111111111111111,
              "#46039f"
             ],
             [
              0.2222222222222222,
              "#7201a8"
             ],
             [
              0.3333333333333333,
              "#9c179e"
             ],
             [
              0.4444444444444444,
              "#bd3786"
             ],
             [
              0.5555555555555556,
              "#d8576b"
             ],
             [
              0.6666666666666666,
              "#ed7953"
             ],
             [
              0.7777777777777778,
              "#fb9f3a"
             ],
             [
              0.8888888888888888,
              "#fdca26"
             ],
             [
              1,
              "#f0f921"
             ]
            ],
            "type": "heatmapgl"
           }
          ],
          "histogram": [
           {
            "marker": {
             "colorbar": {
              "outlinewidth": 0,
              "ticks": ""
             }
            },
            "type": "histogram"
           }
          ],
          "histogram2d": [
           {
            "colorbar": {
             "outlinewidth": 0,
             "ticks": ""
            },
            "colorscale": [
             [
              0,
              "#0d0887"
             ],
             [
              0.1111111111111111,
              "#46039f"
             ],
             [
              0.2222222222222222,
              "#7201a8"
             ],
             [
              0.3333333333333333,
              "#9c179e"
             ],
             [
              0.4444444444444444,
              "#bd3786"
             ],
             [
              0.5555555555555556,
              "#d8576b"
             ],
             [
              0.6666666666666666,
              "#ed7953"
             ],
             [
              0.7777777777777778,
              "#fb9f3a"
             ],
             [
              0.8888888888888888,
              "#fdca26"
             ],
             [
              1,
              "#f0f921"
             ]
            ],
            "type": "histogram2d"
           }
          ],
          "histogram2dcontour": [
           {
            "colorbar": {
             "outlinewidth": 0,
             "ticks": ""
            },
            "colorscale": [
             [
              0,
              "#0d0887"
             ],
             [
              0.1111111111111111,
              "#46039f"
             ],
             [
              0.2222222222222222,
              "#7201a8"
             ],
             [
              0.3333333333333333,
              "#9c179e"
             ],
             [
              0.4444444444444444,
              "#bd3786"
             ],
             [
              0.5555555555555556,
              "#d8576b"
             ],
             [
              0.6666666666666666,
              "#ed7953"
             ],
             [
              0.7777777777777778,
              "#fb9f3a"
             ],
             [
              0.8888888888888888,
              "#fdca26"
             ],
             [
              1,
              "#f0f921"
             ]
            ],
            "type": "histogram2dcontour"
           }
          ],
          "mesh3d": [
           {
            "colorbar": {
             "outlinewidth": 0,
             "ticks": ""
            },
            "type": "mesh3d"
           }
          ],
          "parcoords": [
           {
            "line": {
             "colorbar": {
              "outlinewidth": 0,
              "ticks": ""
             }
            },
            "type": "parcoords"
           }
          ],
          "pie": [
           {
            "automargin": true,
            "type": "pie"
           }
          ],
          "scatter": [
           {
            "marker": {
             "colorbar": {
              "outlinewidth": 0,
              "ticks": ""
             }
            },
            "type": "scatter"
           }
          ],
          "scatter3d": [
           {
            "line": {
             "colorbar": {
              "outlinewidth": 0,
              "ticks": ""
             }
            },
            "marker": {
             "colorbar": {
              "outlinewidth": 0,
              "ticks": ""
             }
            },
            "type": "scatter3d"
           }
          ],
          "scattercarpet": [
           {
            "marker": {
             "colorbar": {
              "outlinewidth": 0,
              "ticks": ""
             }
            },
            "type": "scattercarpet"
           }
          ],
          "scattergeo": [
           {
            "marker": {
             "colorbar": {
              "outlinewidth": 0,
              "ticks": ""
             }
            },
            "type": "scattergeo"
           }
          ],
          "scattergl": [
           {
            "marker": {
             "colorbar": {
              "outlinewidth": 0,
              "ticks": ""
             }
            },
            "type": "scattergl"
           }
          ],
          "scattermapbox": [
           {
            "marker": {
             "colorbar": {
              "outlinewidth": 0,
              "ticks": ""
             }
            },
            "type": "scattermapbox"
           }
          ],
          "scatterpolar": [
           {
            "marker": {
             "colorbar": {
              "outlinewidth": 0,
              "ticks": ""
             }
            },
            "type": "scatterpolar"
           }
          ],
          "scatterpolargl": [
           {
            "marker": {
             "colorbar": {
              "outlinewidth": 0,
              "ticks": ""
             }
            },
            "type": "scatterpolargl"
           }
          ],
          "scatterternary": [
           {
            "marker": {
             "colorbar": {
              "outlinewidth": 0,
              "ticks": ""
             }
            },
            "type": "scatterternary"
           }
          ],
          "surface": [
           {
            "colorbar": {
             "outlinewidth": 0,
             "ticks": ""
            },
            "colorscale": [
             [
              0,
              "#0d0887"
             ],
             [
              0.1111111111111111,
              "#46039f"
             ],
             [
              0.2222222222222222,
              "#7201a8"
             ],
             [
              0.3333333333333333,
              "#9c179e"
             ],
             [
              0.4444444444444444,
              "#bd3786"
             ],
             [
              0.5555555555555556,
              "#d8576b"
             ],
             [
              0.6666666666666666,
              "#ed7953"
             ],
             [
              0.7777777777777778,
              "#fb9f3a"
             ],
             [
              0.8888888888888888,
              "#fdca26"
             ],
             [
              1,
              "#f0f921"
             ]
            ],
            "type": "surface"
           }
          ],
          "table": [
           {
            "cells": {
             "fill": {
              "color": "#EBF0F8"
             },
             "line": {
              "color": "white"
             }
            },
            "header": {
             "fill": {
              "color": "#C8D4E3"
             },
             "line": {
              "color": "white"
             }
            },
            "type": "table"
           }
          ]
         },
         "layout": {
          "annotationdefaults": {
           "arrowcolor": "#2a3f5f",
           "arrowhead": 0,
           "arrowwidth": 1
          },
          "coloraxis": {
           "colorbar": {
            "outlinewidth": 0,
            "ticks": ""
           }
          },
          "colorscale": {
           "diverging": [
            [
             0,
             "#8e0152"
            ],
            [
             0.1,
             "#c51b7d"
            ],
            [
             0.2,
             "#de77ae"
            ],
            [
             0.3,
             "#f1b6da"
            ],
            [
             0.4,
             "#fde0ef"
            ],
            [
             0.5,
             "#f7f7f7"
            ],
            [
             0.6,
             "#e6f5d0"
            ],
            [
             0.7,
             "#b8e186"
            ],
            [
             0.8,
             "#7fbc41"
            ],
            [
             0.9,
             "#4d9221"
            ],
            [
             1,
             "#276419"
            ]
           ],
           "sequential": [
            [
             0,
             "#0d0887"
            ],
            [
             0.1111111111111111,
             "#46039f"
            ],
            [
             0.2222222222222222,
             "#7201a8"
            ],
            [
             0.3333333333333333,
             "#9c179e"
            ],
            [
             0.4444444444444444,
             "#bd3786"
            ],
            [
             0.5555555555555556,
             "#d8576b"
            ],
            [
             0.6666666666666666,
             "#ed7953"
            ],
            [
             0.7777777777777778,
             "#fb9f3a"
            ],
            [
             0.8888888888888888,
             "#fdca26"
            ],
            [
             1,
             "#f0f921"
            ]
           ],
           "sequentialminus": [
            [
             0,
             "#0d0887"
            ],
            [
             0.1111111111111111,
             "#46039f"
            ],
            [
             0.2222222222222222,
             "#7201a8"
            ],
            [
             0.3333333333333333,
             "#9c179e"
            ],
            [
             0.4444444444444444,
             "#bd3786"
            ],
            [
             0.5555555555555556,
             "#d8576b"
            ],
            [
             0.6666666666666666,
             "#ed7953"
            ],
            [
             0.7777777777777778,
             "#fb9f3a"
            ],
            [
             0.8888888888888888,
             "#fdca26"
            ],
            [
             1,
             "#f0f921"
            ]
           ]
          },
          "colorway": [
           "#636efa",
           "#EF553B",
           "#00cc96",
           "#ab63fa",
           "#FFA15A",
           "#19d3f3",
           "#FF6692",
           "#B6E880",
           "#FF97FF",
           "#FECB52"
          ],
          "font": {
           "color": "#2a3f5f"
          },
          "geo": {
           "bgcolor": "white",
           "lakecolor": "white",
           "landcolor": "#E5ECF6",
           "showlakes": true,
           "showland": true,
           "subunitcolor": "white"
          },
          "hoverlabel": {
           "align": "left"
          },
          "hovermode": "closest",
          "mapbox": {
           "style": "light"
          },
          "paper_bgcolor": "white",
          "plot_bgcolor": "#E5ECF6",
          "polar": {
           "angularaxis": {
            "gridcolor": "white",
            "linecolor": "white",
            "ticks": ""
           },
           "bgcolor": "#E5ECF6",
           "radialaxis": {
            "gridcolor": "white",
            "linecolor": "white",
            "ticks": ""
           }
          },
          "scene": {
           "xaxis": {
            "backgroundcolor": "#E5ECF6",
            "gridcolor": "white",
            "gridwidth": 2,
            "linecolor": "white",
            "showbackground": true,
            "ticks": "",
            "zerolinecolor": "white"
           },
           "yaxis": {
            "backgroundcolor": "#E5ECF6",
            "gridcolor": "white",
            "gridwidth": 2,
            "linecolor": "white",
            "showbackground": true,
            "ticks": "",
            "zerolinecolor": "white"
           },
           "zaxis": {
            "backgroundcolor": "#E5ECF6",
            "gridcolor": "white",
            "gridwidth": 2,
            "linecolor": "white",
            "showbackground": true,
            "ticks": "",
            "zerolinecolor": "white"
           }
          },
          "shapedefaults": {
           "line": {
            "color": "#2a3f5f"
           }
          },
          "ternary": {
           "aaxis": {
            "gridcolor": "white",
            "linecolor": "white",
            "ticks": ""
           },
           "baxis": {
            "gridcolor": "white",
            "linecolor": "white",
            "ticks": ""
           },
           "bgcolor": "#E5ECF6",
           "caxis": {
            "gridcolor": "white",
            "linecolor": "white",
            "ticks": ""
           }
          },
          "title": {
           "x": 0.05
          },
          "xaxis": {
           "automargin": true,
           "gridcolor": "white",
           "linecolor": "white",
           "ticks": "",
           "title": {
            "standoff": 15
           },
           "zerolinecolor": "white",
           "zerolinewidth": 2
          },
          "yaxis": {
           "automargin": true,
           "gridcolor": "white",
           "linecolor": "white",
           "ticks": "",
           "title": {
            "standoff": 15
           },
           "zerolinecolor": "white",
           "zerolinewidth": 2
          }
         }
        },
        "xaxis": {
         "autorange": true,
         "range": [
          "2020-02-13 16:59:39.175",
          "2020-02-13 17:10:21.125"
         ],
         "type": "date"
        },
        "yaxis": {
         "autorange": true,
         "range": [
          -3.3270065075921904,
          55.82700650759219
         ],
         "type": "linear"
        }
       }
      },
      "image/png": "[encoded data removed]",
      "text/html": [
       "<div>                            <div id=\"853d5e5f-6765-46ad-ad71-d229e2a0be9f\" class=\"plotly-graph-div\" style=\"height:525px; width:100%;\"></div>            <script type=\"text/javascript\">                require([\"plotly\"], function(Plotly) {                    window.PLOTLYENV=window.PLOTLYENV || {};                                    if (document.getElementById(\"853d5e5f-6765-46ad-ad71-d229e2a0be9f\")) {                    Plotly.newPlot(                        \"853d5e5f-6765-46ad-ad71-d229e2a0be9f\",                        [{\"marker\": {\"color\": \"black\", \"size\": 10, \"symbol\": \"x\"}, \"mode\": \"markers\", \"name\": \"Detector 9\", \"type\": \"scatter\", \"x\": [\"2020-02-13T17:00:14.100000\", \"2020-02-13T17:00:40.800000\", \"2020-02-13T17:01:01.100000\", \"2020-02-13T17:01:09.500000\", \"2020-02-13T17:01:10.900000\", \"2020-02-13T17:01:21.800000\", \"2020-02-13T17:01:58.200000\", \"2020-02-13T17:02:47.700000\", \"2020-02-13T17:02:50.600000\", \"2020-02-13T17:02:53.700000\", \"2020-02-13T17:02:55.400000\", \"2020-02-13T17:02:57.200000\", \"2020-02-13T17:02:59.200000\", \"2020-02-13T17:03:00.200000\", \"2020-02-13T17:03:02.700000\", \"2020-02-13T17:03:04.300000\", \"2020-02-13T17:03:22.500000\", \"2020-02-13T17:03:30.200000\", \"2020-02-13T17:03:36.700000\", \"2020-02-13T17:04:00.400000\", \"2020-02-13T17:04:08.500000\", \"2020-02-13T17:04:15.700000\", \"2020-02-13T17:04:20.200000\", \"2020-02-13T17:04:34.200000\", \"2020-02-13T17:05:11.900000\", \"2020-02-13T17:05:51.800000\", \"2020-02-13T17:05:56.100000\", \"2020-02-13T17:05:57.400000\", \"2020-02-13T17:06:00.500000\", \"2020-02-13T17:06:02\", \"2020-02-13T17:06:03\", \"2020-02-13T17:06:04.700000\", \"2020-02-13T17:06:06.400000\", \"2020-02-13T17:06:07.900000\", \"2020-02-13T17:06:10.700000\", \"2020-02-13T17:06:12\", \"2020-02-13T17:06:13.400000\", \"2020-02-13T17:06:15.400000\", \"2020-02-13T17:06:17.800000\", \"2020-02-13T17:06:28\", \"2020-02-13T17:07:17.700000\", \"2020-02-13T17:07:31.900000\", \"2020-02-13T17:08:23.400000\", \"2020-02-13T17:08:26.200000\", \"2020-02-13T17:08:28.900000\", \"2020-02-13T17:08:30.400000\", \"2020-02-13T17:08:33.200000\", \"2020-02-13T17:08:36.700000\", \"2020-02-13T17:08:38.900000\", \"2020-02-13T17:08:42.400000\", \"2020-02-13T17:08:48.800000\", \"2020-02-13T17:08:54.900000\", \"2020-02-13T17:08:58.200000\", \"2020-02-13T17:09:03.900000\", \"2020-02-13T17:09:06.200000\", \"2020-02-13T17:09:09.400000\", \"2020-02-13T17:09:15.800000\", \"2020-02-13T17:09:18.900000\", \"2020-02-13T17:09:28.500000\", \"2020-02-13T17:09:31.400000\"], \"y\": [null, 26.7, 20.3, 8.4, 1.4, 10.9, 36.4, 49.5, 2.9, 3.1, 1.7, 1.8, 2.0, 1.0, 2.5, 1.6, 18.2, 7.7, 6.5, 23.7, 8.1, 7.2, 4.5, 14.0, 37.7, 39.9, 4.3, 1.3, 3.1, 1.5, 1.0, 1.7, 1.7, 1.5, 2.8, 1.3, 1.4, 2.0, 2.4, 10.2, 49.7, 14.2, 51.5, 2.8, 2.7, 1.5, 2.8, 3.5, 2.2, 3.5, 6.4, 6.1, 3.3, 5.7, 2.3, 3.2, 6.4, 3.1, 9.6, 2.9]}, {\"marker\": {\"color\": \"blue\", \"size\": 10, \"symbol\": \"circle\"}, \"mode\": \"markers\", \"name\": \"Detector 10\", \"type\": \"scatter\", \"x\": [\"2020-02-13T17:00:15.300000\", \"2020-02-13T17:00:18.400000\", \"2020-02-13T17:00:31.500000\", \"2020-02-13T17:00:34.100000\", \"2020-02-13T17:00:36.300000\", \"2020-02-13T17:00:40.400000\", \"2020-02-13T17:00:41.600000\", \"2020-02-13T17:00:45.300000\", \"2020-02-13T17:01:06.100000\", \"2020-02-13T17:01:09.900000\", \"2020-02-13T17:01:11.300000\", \"2020-02-13T17:01:21.600000\", \"2020-02-13T17:01:24.500000\", \"2020-02-13T17:01:56\", \"2020-02-13T17:02:07.300000\", \"2020-02-13T17:02:29.100000\", \"2020-02-13T17:02:50.200000\", \"2020-02-13T17:02:51.700000\", \"2020-02-13T17:02:55.300000\", \"2020-02-13T17:02:56.400000\", \"2020-02-13T17:02:58.900000\", \"2020-02-13T17:03:01.200000\", \"2020-02-13T17:03:02.700000\", \"2020-02-13T17:03:04.500000\", \"2020-02-13T17:03:10.700000\", \"2020-02-13T17:03:12.700000\", \"2020-02-13T17:03:22.400000\", \"2020-02-13T17:03:29.300000\", \"2020-02-13T17:03:33.200000\", \"2020-02-13T17:03:35.800000\", \"2020-02-13T17:03:50\", \"2020-02-13T17:03:52.800000\", \"2020-02-13T17:04:07.900000\", \"2020-02-13T17:04:20.300000\", \"2020-02-13T17:04:53.700000\", \"2020-02-13T17:05:00.800000\", \"2020-02-13T17:05:03.300000\", \"2020-02-13T17:05:06.700000\", \"2020-02-13T17:05:14.400000\", \"2020-02-13T17:05:51.900000\", \"2020-02-13T17:05:54.300000\", \"2020-02-13T17:05:59\", \"2020-02-13T17:06:00.600000\", \"2020-02-13T17:06:04.400000\", \"2020-02-13T17:06:09.800000\", \"2020-02-13T17:06:12\", \"2020-02-13T17:06:13.700000\", \"2020-02-13T17:06:21.300000\", \"2020-02-13T17:06:31\", \"2020-02-13T17:06:53.600000\", \"2020-02-13T17:07:10.800000\", \"2020-02-13T17:07:21.300000\", \"2020-02-13T17:07:29.600000\", \"2020-02-13T17:08:02\", \"2020-02-13T17:08:22.500000\", \"2020-02-13T17:08:24\", \"2020-02-13T17:08:27.900000\", \"2020-02-13T17:08:30.100000\", \"2020-02-13T17:08:31.200000\", \"2020-02-13T17:08:32.800000\", \"2020-02-13T17:08:35.400000\", \"2020-02-13T17:08:38.800000\", \"2020-02-13T17:08:41.200000\", \"2020-02-13T17:08:43.400000\", \"2020-02-13T17:08:48.900000\", \"2020-02-13T17:08:52.200000\", \"2020-02-13T17:08:53.900000\", \"2020-02-13T17:08:57.900000\", \"2020-02-13T17:09:04.200000\", \"2020-02-13T17:09:08.900000\", \"2020-02-13T17:09:12.700000\", \"2020-02-13T17:09:14.700000\", \"2020-02-13T17:09:19.400000\", \"2020-02-13T17:09:20.900000\", \"2020-02-13T17:09:23.500000\", \"2020-02-13T17:09:25.500000\", \"2020-02-13T17:09:30.500000\", \"2020-02-13T17:09:39.900000\", \"2020-02-13T17:09:44.700000\", \"2020-02-13T17:09:46.200000\"], \"y\": [null, 3.1, 13.1, 2.6, 2.2, 4.1, 1.2, 3.7, 20.8, 3.8, 1.4, 10.3, 2.9, 31.5, 11.3, 21.8, 21.1, 1.5, 3.6, 1.1, 2.5, 2.3, 1.5, 1.8, 6.2, 2.0, 9.7, 6.9, 3.9, 2.6, 14.2, 2.8, 15.1, 12.4, 33.4, 7.1, 2.5, 3.4, 7.7, 37.5, 2.4, 4.7, 1.6, 3.8, 5.4, 2.2, 1.7, 7.6, 9.7, 22.6, 17.2, 10.5, 8.3, 32.4, 20.5, 1.5, 3.9, 2.2, 1.1, 1.6, 2.6, 3.4, 2.4, 2.2, 5.5, 3.3, 1.7, 4.0, 6.3, 4.7, 3.8, 2.0, 4.7, 1.5, 2.6, 2.0, 5.0, 9.4, 4.8, 1.5]}, {\"line\": {\"color\": \"Red\", \"dash\": \"solid\", \"width\": 4}, \"mode\": \"lines\", \"showlegend\": false, \"type\": \"scatter\", \"x\": [\"2020-02-13T17:01:28.700000\", \"2020-02-13T17:01:28.700000\"], \"y\": [0, 15]}, {\"line\": {\"color\": \"Green\", \"dash\": \"solid\", \"width\": 4}, \"mode\": \"lines\", \"showlegend\": false, \"type\": \"scatter\", \"x\": [\"2020-02-13T17:02:37.600000\", \"2020-02-13T17:02:37.600000\"], \"y\": [0, 15]}, {\"line\": {\"color\": \"Red\", \"dash\": \"solid\", \"width\": 4}, \"mode\": \"lines\", \"showlegend\": false, \"type\": \"scatter\", \"x\": [\"2020-02-13T17:04:28.800000\", \"2020-02-13T17:04:28.800000\"], \"y\": [0, 15]}, {\"line\": {\"color\": \"Green\", \"dash\": \"solid\", \"width\": 4}, \"mode\": \"lines\", \"showlegend\": false, \"type\": \"scatter\", \"x\": [\"2020-02-13T17:05:31\", \"2020-02-13T17:05:31\"], \"y\": [0, 15]}, {\"line\": {\"color\": \"Red\", \"dash\": \"solid\", \"width\": 4}, \"mode\": \"lines\", \"showlegend\": false, \"type\": \"scatter\", \"x\": [\"2020-02-13T17:07:28.800000\", \"2020-02-13T17:07:28.800000\"], \"y\": [0, 15]}, {\"line\": {\"color\": \"Green\", \"dash\": \"solid\", \"width\": 4}, \"mode\": \"lines\", \"showlegend\": false, \"type\": \"scatter\", \"x\": [\"2020-02-13T17:08:42.700000\", \"2020-02-13T17:08:42.700000\"], \"y\": [0, 15]}],                        {\"template\": {\"data\": {\"bar\": [{\"error_x\": {\"color\": \"#2a3f5f\"}, \"error_y\": {\"color\": \"#2a3f5f\"}, \"marker\": {\"line\": {\"color\": \"#E5ECF6\", \"width\": 0.5}}, \"type\": \"bar\"}], \"barpolar\": [{\"marker\": {\"line\": {\"color\": \"#E5ECF6\", \"width\": 0.5}}, \"type\": \"barpolar\"}], \"carpet\": [{\"aaxis\": {\"endlinecolor\": \"#2a3f5f\", \"gridcolor\": \"white\", \"linecolor\": \"white\", \"minorgridcolor\": \"white\", \"startlinecolor\": \"#2a3f5f\"}, \"baxis\": {\"endlinecolor\": \"#2a3f5f\", \"gridcolor\": \"white\", \"linecolor\": \"white\", \"minorgridcolor\": \"white\", \"startlinecolor\": \"#2a3f5f\"}, \"type\": \"carpet\"}], \"choropleth\": [{\"colorbar\": {\"outlinewidth\": 0, \"ticks\": \"\"}, \"type\": \"choropleth\"}], \"contour\": [{\"colorbar\": {\"outlinewidth\": 0, \"ticks\": \"\"}, \"colorscale\": [[0.0, \"#0d0887\"], [0.1111111111111111, \"#46039f\"], [0.2222222222222222, \"#7201a8\"], [0.3333333333333333, \"#9c179e\"], [0.4444444444444444, \"#bd3786\"], [0.5555555555555556, \"#d8576b\"], [0.6666666666666666, \"#ed7953\"], [0.7777777777777778, \"#fb9f3a\"], [0.8888888888888888, \"#fdca26\"], [1.0, \"#f0f921\"]], \"type\": \"contour\"}], \"contourcarpet\": [{\"colorbar\": {\"outlinewidth\": 0, \"ticks\": \"\"}, \"type\": \"contourcarpet\"}], \"heatmap\": [{\"colorbar\": {\"outlinewidth\": 0, \"ticks\": \"\"}, \"colorscale\": [[0.0, \"#0d0887\"], [0.1111111111111111, \"#46039f\"], [0.2222222222222222, \"#7201a8\"], [0.3333333333333333, \"#9c179e\"], [0.4444444444444444, \"#bd3786\"], [0.5555555555555556, \"#d8576b\"], [0.6666666666666666, \"#ed7953\"], [0.7777777777777778, \"#fb9f3a\"], [0.8888888888888888, \"#fdca26\"], [1.0, \"#f0f921\"]], \"type\": \"heatmap\"}], \"heatmapgl\": [{\"colorbar\": {\"outlinewidth\": 0, \"ticks\": \"\"}, \"colorscale\": [[0.0, \"#0d0887\"], [0.1111111111111111, \"#46039f\"], [0.2222222222222222, \"#7201a8\"], [0.3333333333333333, \"#9c179e\"], [0.4444444444444444, \"#bd3786\"], [0.5555555555555556, \"#d8576b\"], [0.6666666666666666, \"#ed7953\"], [0.7777777777777778, \"#fb9f3a\"], [0.8888888888888888, \"#fdca26\"], [1.0, \"#f0f921\"]], \"type\": \"heatmapgl\"}], \"histogram\": [{\"marker\": {\"colorbar\": {\"outlinewidth\": 0, \"ticks\": \"\"}}, \"type\": \"histogram\"}], \"histogram2d\": [{\"colorbar\": {\"outlinewidth\": 0, \"ticks\": \"\"}, \"colorscale\": [[0.0, \"#0d0887\"], [0.1111111111111111, \"#46039f\"], [0.2222222222222222, \"#7201a8\"], [0.3333333333333333, \"#9c179e\"], [0.4444444444444444, \"#bd3786\"], [0.5555555555555556, \"#d8576b\"], [0.6666666666666666, \"#ed7953\"], [0.7777777777777778, \"#fb9f3a\"], [0.8888888888888888, \"#fdca26\"], [1.0, \"#f0f921\"]], \"type\": \"histogram2d\"}], \"histogram2dcontour\": [{\"colorbar\": {\"outlinewidth\": 0, \"ticks\": \"\"}, \"colorscale\": [[0.0, \"#0d0887\"], [0.1111111111111111, \"#46039f\"], [0.2222222222222222, \"#7201a8\"], [0.3333333333333333, \"#9c179e\"], [0.4444444444444444, \"#bd3786\"], [0.5555555555555556, \"#d8576b\"], [0.6666666666666666, \"#ed7953\"], [0.7777777777777778, \"#fb9f3a\"], [0.8888888888888888, \"#fdca26\"], [1.0, \"#f0f921\"]], \"type\": \"histogram2dcontour\"}], \"mesh3d\": [{\"colorbar\": {\"outlinewidth\": 0, \"ticks\": \"\"}, \"type\": \"mesh3d\"}], \"parcoords\": [{\"line\": {\"colorbar\": {\"outlinewidth\": 0, \"ticks\": \"\"}}, \"type\": \"parcoords\"}], \"pie\": [{\"automargin\": true, \"type\": \"pie\"}], \"scatter\": [{\"marker\": {\"colorbar\": {\"outlinewidth\": 0, \"ticks\": \"\"}}, \"type\": \"scatter\"}], \"scatter3d\": [{\"line\": {\"colorbar\": {\"outlinewidth\": 0, \"ticks\": \"\"}}, \"marker\": {\"colorbar\": {\"outlinewidth\": 0, \"ticks\": \"\"}}, \"type\": \"scatter3d\"}], \"scattercarpet\": [{\"marker\": {\"colorbar\": {\"outlinewidth\": 0, \"ticks\": \"\"}}, \"type\": \"scattercarpet\"}], \"scattergeo\": [{\"marker\": {\"colorbar\": {\"outlinewidth\": 0, \"ticks\": \"\"}}, \"type\": \"scattergeo\"}], \"scattergl\": [{\"marker\": {\"colorbar\": {\"outlinewidth\": 0, \"ticks\": \"\"}}, \"type\": \"scattergl\"}], \"scattermapbox\": [{\"marker\": {\"colorbar\": {\"outlinewidth\": 0, \"ticks\": \"\"}}, \"type\": \"scattermapbox\"}], \"scatterpolar\": [{\"marker\": {\"colorbar\": {\"outlinewidth\": 0, \"ticks\": \"\"}}, \"type\": \"scatterpolar\"}], \"scatterpolargl\": [{\"marker\": {\"colorbar\": {\"outlinewidth\": 0, \"ticks\": \"\"}}, \"type\": \"scatterpolargl\"}], \"scatterternary\": [{\"marker\": {\"colorbar\": {\"outlinewidth\": 0, \"ticks\": \"\"}}, \"type\": \"scatterternary\"}], \"surface\": [{\"colorbar\": {\"outlinewidth\": 0, \"ticks\": \"\"}, \"colorscale\": [[0.0, \"#0d0887\"], [0.1111111111111111, \"#46039f\"], [0.2222222222222222, \"#7201a8\"], [0.3333333333333333, \"#9c179e\"], [0.4444444444444444, \"#bd3786\"], [0.5555555555555556, \"#d8576b\"], [0.6666666666666666, \"#ed7953\"], [0.7777777777777778, \"#fb9f3a\"], [0.8888888888888888, \"#fdca26\"], [1.0, \"#f0f921\"]], \"type\": \"surface\"}], \"table\": [{\"cells\": {\"fill\": {\"color\": \"#EBF0F8\"}, \"line\": {\"color\": \"white\"}}, \"header\": {\"fill\": {\"color\": \"#C8D4E3\"}, \"line\": {\"color\": \"white\"}}, \"type\": \"table\"}]}, \"layout\": {\"annotationdefaults\": {\"arrowcolor\": \"#2a3f5f\", \"arrowhead\": 0, \"arrowwidth\": 1}, \"coloraxis\": {\"colorbar\": {\"outlinewidth\": 0, \"ticks\": \"\"}}, \"colorscale\": {\"diverging\": [[0, \"#8e0152\"], [0.1, \"#c51b7d\"], [0.2, \"#de77ae\"], [0.3, \"#f1b6da\"], [0.4, \"#fde0ef\"], [0.5, \"#f7f7f7\"], [0.6, \"#e6f5d0\"], [0.7, \"#b8e186\"], [0.8, \"#7fbc41\"], [0.9, \"#4d9221\"], [1, \"#276419\"]], \"sequential\": [[0.0, \"#0d0887\"], [0.1111111111111111, \"#46039f\"], [0.2222222222222222, \"#7201a8\"], [0.3333333333333333, \"#9c179e\"], [0.4444444444444444, \"#bd3786\"], [0.5555555555555556, \"#d8576b\"], [0.6666666666666666, \"#ed7953\"], [0.7777777777777778, \"#fb9f3a\"], [0.8888888888888888, \"#fdca26\"], [1.0, \"#f0f921\"]], \"sequentialminus\": [[0.0, \"#0d0887\"], [0.1111111111111111, \"#46039f\"], [0.2222222222222222, \"#7201a8\"], [0.3333333333333333, \"#9c179e\"], [0.4444444444444444, \"#bd3786\"], [0.5555555555555556, \"#d8576b\"], [0.6666666666666666, \"#ed7953\"], [0.7777777777777778, \"#fb9f3a\"], [0.8888888888888888, \"#fdca26\"], [1.0, \"#f0f921\"]]}, \"colorway\": [\"#636efa\", \"#EF553B\", \"#00cc96\", \"#ab63fa\", \"#FFA15A\", \"#19d3f3\", \"#FF6692\", \"#B6E880\", \"#FF97FF\", \"#FECB52\"], \"font\": {\"color\": \"#2a3f5f\"}, \"geo\": {\"bgcolor\": \"white\", \"lakecolor\": \"white\", \"landcolor\": \"#E5ECF6\", \"showlakes\": true, \"showland\": true, \"subunitcolor\": \"white\"}, \"hoverlabel\": {\"align\": \"left\"}, \"hovermode\": \"closest\", \"mapbox\": {\"style\": \"light\"}, \"paper_bgcolor\": \"white\", \"plot_bgcolor\": \"#E5ECF6\", \"polar\": {\"angularaxis\": {\"gridcolor\": \"white\", \"linecolor\": \"white\", \"ticks\": \"\"}, \"bgcolor\": \"#E5ECF6\", \"radialaxis\": {\"gridcolor\": \"white\", \"linecolor\": \"white\", \"ticks\": \"\"}}, \"scene\": {\"xaxis\": {\"backgroundcolor\": \"#E5ECF6\", \"gridcolor\": \"white\", \"gridwidth\": 2, \"linecolor\": \"white\", \"showbackground\": true, \"ticks\": \"\", \"zerolinecolor\": \"white\"}, \"yaxis\": {\"backgroundcolor\": \"#E5ECF6\", \"gridcolor\": \"white\", \"gridwidth\": 2, \"linecolor\": \"white\", \"showbackground\": true, \"ticks\": \"\", \"zerolinecolor\": \"white\"}, \"zaxis\": {\"backgroundcolor\": \"#E5ECF6\", \"gridcolor\": \"white\", \"gridwidth\": 2, \"linecolor\": \"white\", \"showbackground\": true, \"ticks\": \"\", \"zerolinecolor\": \"white\"}}, \"shapedefaults\": {\"line\": {\"color\": \"#2a3f5f\"}}, \"ternary\": {\"aaxis\": {\"gridcolor\": \"white\", \"linecolor\": \"white\", \"ticks\": \"\"}, \"baxis\": {\"gridcolor\": \"white\", \"linecolor\": \"white\", \"ticks\": \"\"}, \"bgcolor\": \"#E5ECF6\", \"caxis\": {\"gridcolor\": \"white\", \"linecolor\": \"white\", \"ticks\": \"\"}}, \"title\": {\"x\": 0.05}, \"xaxis\": {\"automargin\": true, \"gridcolor\": \"white\", \"linecolor\": \"white\", \"ticks\": \"\", \"title\": {\"standoff\": 15}, \"zerolinecolor\": \"white\", \"zerolinewidth\": 2}, \"yaxis\": {\"automargin\": true, \"gridcolor\": \"white\", \"linecolor\": \"white\", \"ticks\": \"\", \"title\": {\"standoff\": 15}, \"zerolinecolor\": \"white\", \"zerolinewidth\": 2}}}},                        {\"responsive\": true}                    ).then(function(){\n",
       "                            \n",
       "var gd = document.getElementById('853d5e5f-6765-46ad-ad71-d229e2a0be9f');\n",
       "var x = new MutationObserver(function (mutations, observer) {{\n",
       "        var display = window.getComputedStyle(gd).display;\n",
       "        if (!display || display === 'none') {{\n",
       "            console.log([gd, 'removed!']);\n",
       "            Plotly.purge(gd);\n",
       "            observer.disconnect();\n",
       "        }}\n",
       "}});\n",
       "\n",
       "// Listen for the removal of the full notebook cells\n",
       "var notebookContainer = gd.closest('#notebook-container');\n",
       "if (notebookContainer) {{\n",
       "    x.observe(notebookContainer, {childList: true});\n",
       "}}\n",
       "\n",
       "// Listen for the clearing of the current output cell\n",
       "var outputEl = gd.closest('.output');\n",
       "if (outputEl) {{\n",
       "    x.observe(outputEl, {childList: true});\n",
       "}}\n",
       "\n",
       "                        })                };                });            </script>        </div>"
      ]
     },
     "metadata": {},
     "output_type": "display_data"
    }
   ],
   "source": [
    "tl_id = 63069007\n",
    "phase = 2\n",
    "\n",
    "plot_tl_df = light_on[(light_on['SignalID'] == tl_id) & (light_on['EventParam'] == phase)]\n",
    "\n",
    "fig = go.Figure()\n",
    "\n",
    "# fig.update_xaxes(range=[plot_detect_df['Timestamp'].min(), plot_detect_df['Timestamp'].max()])\n",
    "\n",
    "fig.add_trace(go.Scatter(x=detection_dict[tl_id][9]['Timestamp'],\n",
    "                        y=detection_dict[tl_id][9]['headway_seconds'],\n",
    "                        mode='markers',\n",
    "                         name='Detector 9',\n",
    "                        marker=dict(\n",
    "                            color='black',\n",
    "                            size=10,\n",
    "                            symbol='x'\n",
    "                        ),\n",
    "                        )\n",
    "             )\n",
    "\n",
    "fig.add_trace(go.Scatter(x=detection_dict[tl_id][10]['Timestamp'],\n",
    "                        y=detection_dict[tl_id][10]['headway_seconds'],\n",
    "                        mode='markers',\n",
    "                         name='Detector 10',\n",
    "                        marker=dict(\n",
    "                            color='blue',\n",
    "                            size=10,\n",
    "                            symbol='circle'\n",
    "                        ),\n",
    "                        )\n",
    "             )\n",
    "\n",
    "\n",
    "for i, code in zip(plot_tl_df['Timestamp'].values, plot_tl_df['EventCode'].values):\n",
    "    print(i, code)\n",
    "    fig.add_trace(go.Scatter(x=[pd.to_datetime(i), pd.to_datetime(i)],\n",
    "                             y = [0, 15],\n",
    "                             showlegend=False,\n",
    "                             mode='lines',\n",
    "                                line=dict(\n",
    "                                    color=\"Green\" if code == 1 else 'Red',\n",
    "                                    width=4,\n",
    "                                    dash=\"solid\",\n",
    "                                )\n",
    "                            )\n",
    "                )\n",
    "    \n",
    "# fig.update_shapes(dict(xref='x', yref='y'))\n",
    "fig.show()"
   ]
  },
  {
   "cell_type": "code",
   "execution_count": 10,
   "metadata": {},
   "outputs": [],
   "source": [
    "# detection_dict[tl_id][10].where('Timestamp' > )"
   ]
  },
  {
   "cell_type": "code",
   "execution_count": null,
   "metadata": {},
   "outputs": [],
   "source": []
  }
 ],
 "metadata": {
  "kernelspec": {
   "display_name": "campus-bryce",
   "language": "python",
   "name": "campus-bryce"
  },
  "language_info": {
   "codemirror_mode": {
    "name": "ipython",
    "version": 3
   },
   "file_extension": ".py",
   "mimetype": "text/x-python",
   "name": "python",
   "nbconvert_exporter": "python",
   "pygments_lexer": "ipython3",
   "version": "3.7.8"
  }
 },
 "nbformat": 4,
 "nbformat_minor": 4
}
